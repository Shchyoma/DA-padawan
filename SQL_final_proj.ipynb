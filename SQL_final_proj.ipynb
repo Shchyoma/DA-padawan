{
 "cells": [
  {
   "cell_type": "markdown",
   "metadata": {},
   "source": [
    "# SQL\n",
    "\n",
    "Коронавирус застал мир врасплох, изменив привычный порядок вещей. В свободное время жители городов больше не выходят на улицу, не посещают кафе и торговые центры. Зато стало больше времени для книг. Это заметили стартаперы — и бросились создавать приложения для тех, кто любит читать.\n",
    "\n",
    "Ваша компания решила быть на волне и купила крупный сервис для чтения книг по подписке. Ваша первая задача как аналитика — проанализировать базу данных.\n",
    "\n",
    "В ней — информация о книгах, издательствах, авторах, а также пользовательские обзоры книг. Эти данные помогут сформулировать ценностное предложение для нового продукта.\n",
    "\n",
    "**Описание данных** \n",
    "\n",
    "Таблица `books`\n",
    "\n",
    "Содержит данные о книгах:\n",
    "- `book_id` — идентификатор книги;\n",
    "- `author_id` — идентификатор автора;\n",
    "- `title` — название книги;\n",
    "- `num_pages` — количество страниц; \n",
    "- `publication_date` — дата публикации книги; \n",
    "- `publisher_id` — идентификатор издателя.\n",
    "\n",
    "Таблица `authors`\n",
    "\n",
    "Содержит данные об авторах:\n",
    "- `author_id` — идентификатор автора;\n",
    "- `author` — имя автора\n",
    "\n",
    "Таблица `publishers`\n",
    "\n",
    "Содержит данные об издательствах:\n",
    "- `publisher_id` — идентификатор издательства;\n",
    "- `publisher` — название издательства; \n",
    "\n",
    "Таблица `ratings`\n",
    "\n",
    "Содержит данные о пользовательских оценках книг: \n",
    "- `rating_id` — идентификатор оценки;\n",
    "- `book_id` — идентификатор книги;\n",
    "- `username` — имя пользователя, оставившего оценку; \n",
    "- `rating` — оценка книги.\n",
    "\n",
    "Таблица `reviews`\n",
    "\n",
    "Содержит данные о пользовательских обзорах на книги:\n",
    "- `review_id` — идентификатор обзора;\n",
    "- `book_id` — идентификатор книги;\n",
    "- `username` — имя пользователя, написавшего обзор; \n",
    "- `text` — текст обзора."
   ]
  },
  {
   "cell_type": "markdown",
   "metadata": {},
   "source": [
    "## Исследование таблиц — вывод первых строк"
   ]
  },
  {
   "cell_type": "code",
   "execution_count": 1,
   "metadata": {},
   "outputs": [],
   "source": [
    "# импортируем библиотеки\n",
    "import pandas as pd\n",
    "from sqlalchemy import create_engine"
   ]
  },
  {
   "cell_type": "code",
   "execution_count": 2,
   "metadata": {},
   "outputs": [],
   "source": [
    "# устанавливаем параметры\n",
    "db_config = {'user': 'praktikum_student', # имя пользователя\n",
    "             'pwd': '***', # пароль\n",
    "             'host': '***',\n",
    "             'port': 1111, # порт подключения\n",
    "             'db': 'data-analyst-final-project-db'} # название базы данных\n",
    "\n",
    "connection_string = 'postgresql://{}:{}@{}:{}/{}'.format(db_config['user'],\n",
    "                                                         db_config['pwd'],\n",
    "                                                         db_config['host'],\n",
    "                                                         db_config['port'],\n",
    "                                                         db_config['db'])\n",
    "# сохраняем коннектор\n",
    "engine = create_engine(connection_string, connect_args={'sslmode':'require'})"
   ]
  },
  {
   "cell_type": "code",
   "execution_count": 3,
   "metadata": {},
   "outputs": [
    {
     "data": {
      "text/html": [
       "<div>\n",
       "<style scoped>\n",
       "    .dataframe tbody tr th:only-of-type {\n",
       "        vertical-align: middle;\n",
       "    }\n",
       "\n",
       "    .dataframe tbody tr th {\n",
       "        vertical-align: top;\n",
       "    }\n",
       "\n",
       "    .dataframe thead th {\n",
       "        text-align: right;\n",
       "    }\n",
       "</style>\n",
       "<table border=\"1\" class=\"dataframe\">\n",
       "  <thead>\n",
       "    <tr style=\"text-align: right;\">\n",
       "      <th></th>\n",
       "      <th>book_id</th>\n",
       "      <th>author_id</th>\n",
       "      <th>title</th>\n",
       "      <th>num_pages</th>\n",
       "      <th>publication_date</th>\n",
       "      <th>publisher_id</th>\n",
       "    </tr>\n",
       "  </thead>\n",
       "  <tbody>\n",
       "    <tr>\n",
       "      <th>0</th>\n",
       "      <td>1</td>\n",
       "      <td>546</td>\n",
       "      <td>'Salem's Lot</td>\n",
       "      <td>594</td>\n",
       "      <td>2005-11-01</td>\n",
       "      <td>93</td>\n",
       "    </tr>\n",
       "    <tr>\n",
       "      <th>1</th>\n",
       "      <td>2</td>\n",
       "      <td>465</td>\n",
       "      <td>1 000 Places to See Before You Die</td>\n",
       "      <td>992</td>\n",
       "      <td>2003-05-22</td>\n",
       "      <td>336</td>\n",
       "    </tr>\n",
       "    <tr>\n",
       "      <th>2</th>\n",
       "      <td>3</td>\n",
       "      <td>407</td>\n",
       "      <td>13 Little Blue Envelopes (Little Blue Envelope...</td>\n",
       "      <td>322</td>\n",
       "      <td>2010-12-21</td>\n",
       "      <td>135</td>\n",
       "    </tr>\n",
       "    <tr>\n",
       "      <th>3</th>\n",
       "      <td>4</td>\n",
       "      <td>82</td>\n",
       "      <td>1491: New Revelations of the Americas Before C...</td>\n",
       "      <td>541</td>\n",
       "      <td>2006-10-10</td>\n",
       "      <td>309</td>\n",
       "    </tr>\n",
       "    <tr>\n",
       "      <th>4</th>\n",
       "      <td>5</td>\n",
       "      <td>125</td>\n",
       "      <td>1776</td>\n",
       "      <td>386</td>\n",
       "      <td>2006-07-04</td>\n",
       "      <td>268</td>\n",
       "    </tr>\n",
       "  </tbody>\n",
       "</table>\n",
       "</div>"
      ],
      "text/plain": [
       "   book_id  author_id                                              title  \\\n",
       "0        1        546                                       'Salem's Lot   \n",
       "1        2        465                 1 000 Places to See Before You Die   \n",
       "2        3        407  13 Little Blue Envelopes (Little Blue Envelope...   \n",
       "3        4         82  1491: New Revelations of the Americas Before C...   \n",
       "4        5        125                                               1776   \n",
       "\n",
       "   num_pages publication_date  publisher_id  \n",
       "0        594       2005-11-01            93  \n",
       "1        992       2003-05-22           336  \n",
       "2        322       2010-12-21           135  \n",
       "3        541       2006-10-10           309  \n",
       "4        386       2006-07-04           268  "
      ]
     },
     "execution_count": 3,
     "metadata": {},
     "output_type": "execute_result"
    }
   ],
   "source": [
    "query = '''\n",
    "            SELECT * FROM books\n",
    "        '''\n",
    "books = pd.io.sql.read_sql(query, con = engine)\n",
    "books.head()"
   ]
  },
  {
   "cell_type": "code",
   "execution_count": 4,
   "metadata": {},
   "outputs": [
    {
     "data": {
      "text/html": [
       "<div>\n",
       "<style scoped>\n",
       "    .dataframe tbody tr th:only-of-type {\n",
       "        vertical-align: middle;\n",
       "    }\n",
       "\n",
       "    .dataframe tbody tr th {\n",
       "        vertical-align: top;\n",
       "    }\n",
       "\n",
       "    .dataframe thead th {\n",
       "        text-align: right;\n",
       "    }\n",
       "</style>\n",
       "<table border=\"1\" class=\"dataframe\">\n",
       "  <thead>\n",
       "    <tr style=\"text-align: right;\">\n",
       "      <th></th>\n",
       "      <th>author_id</th>\n",
       "      <th>author</th>\n",
       "    </tr>\n",
       "  </thead>\n",
       "  <tbody>\n",
       "    <tr>\n",
       "      <th>0</th>\n",
       "      <td>1</td>\n",
       "      <td>A.S. Byatt</td>\n",
       "    </tr>\n",
       "    <tr>\n",
       "      <th>1</th>\n",
       "      <td>2</td>\n",
       "      <td>Aesop/Laura Harris/Laura Gibbs</td>\n",
       "    </tr>\n",
       "    <tr>\n",
       "      <th>2</th>\n",
       "      <td>3</td>\n",
       "      <td>Agatha Christie</td>\n",
       "    </tr>\n",
       "    <tr>\n",
       "      <th>3</th>\n",
       "      <td>4</td>\n",
       "      <td>Alan Brennert</td>\n",
       "    </tr>\n",
       "    <tr>\n",
       "      <th>4</th>\n",
       "      <td>5</td>\n",
       "      <td>Alan Moore/David   Lloyd</td>\n",
       "    </tr>\n",
       "  </tbody>\n",
       "</table>\n",
       "</div>"
      ],
      "text/plain": [
       "   author_id                          author\n",
       "0          1                      A.S. Byatt\n",
       "1          2  Aesop/Laura Harris/Laura Gibbs\n",
       "2          3                 Agatha Christie\n",
       "3          4                   Alan Brennert\n",
       "4          5        Alan Moore/David   Lloyd"
      ]
     },
     "execution_count": 4,
     "metadata": {},
     "output_type": "execute_result"
    }
   ],
   "source": [
    "query = '''\n",
    "            SELECT * FROM authors\n",
    "        '''\n",
    "authors = pd.io.sql.read_sql(query, con = engine)\n",
    "authors.head()"
   ]
  },
  {
   "cell_type": "code",
   "execution_count": 5,
   "metadata": {},
   "outputs": [
    {
     "data": {
      "text/html": [
       "<div>\n",
       "<style scoped>\n",
       "    .dataframe tbody tr th:only-of-type {\n",
       "        vertical-align: middle;\n",
       "    }\n",
       "\n",
       "    .dataframe tbody tr th {\n",
       "        vertical-align: top;\n",
       "    }\n",
       "\n",
       "    .dataframe thead th {\n",
       "        text-align: right;\n",
       "    }\n",
       "</style>\n",
       "<table border=\"1\" class=\"dataframe\">\n",
       "  <thead>\n",
       "    <tr style=\"text-align: right;\">\n",
       "      <th></th>\n",
       "      <th>publisher_id</th>\n",
       "      <th>publisher</th>\n",
       "    </tr>\n",
       "  </thead>\n",
       "  <tbody>\n",
       "    <tr>\n",
       "      <th>0</th>\n",
       "      <td>1</td>\n",
       "      <td>Ace</td>\n",
       "    </tr>\n",
       "    <tr>\n",
       "      <th>1</th>\n",
       "      <td>2</td>\n",
       "      <td>Ace Book</td>\n",
       "    </tr>\n",
       "    <tr>\n",
       "      <th>2</th>\n",
       "      <td>3</td>\n",
       "      <td>Ace Books</td>\n",
       "    </tr>\n",
       "    <tr>\n",
       "      <th>3</th>\n",
       "      <td>4</td>\n",
       "      <td>Ace Hardcover</td>\n",
       "    </tr>\n",
       "    <tr>\n",
       "      <th>4</th>\n",
       "      <td>5</td>\n",
       "      <td>Addison Wesley Publishing Company</td>\n",
       "    </tr>\n",
       "  </tbody>\n",
       "</table>\n",
       "</div>"
      ],
      "text/plain": [
       "   publisher_id                          publisher\n",
       "0             1                                Ace\n",
       "1             2                           Ace Book\n",
       "2             3                          Ace Books\n",
       "3             4                      Ace Hardcover\n",
       "4             5  Addison Wesley Publishing Company"
      ]
     },
     "execution_count": 5,
     "metadata": {},
     "output_type": "execute_result"
    }
   ],
   "source": [
    "query = '''\n",
    "            SELECT * FROM publishers\n",
    "        '''\n",
    "publishers = pd.io.sql.read_sql(query, con = engine)\n",
    "publishers.head()"
   ]
  },
  {
   "cell_type": "code",
   "execution_count": 6,
   "metadata": {},
   "outputs": [
    {
     "data": {
      "text/html": [
       "<div>\n",
       "<style scoped>\n",
       "    .dataframe tbody tr th:only-of-type {\n",
       "        vertical-align: middle;\n",
       "    }\n",
       "\n",
       "    .dataframe tbody tr th {\n",
       "        vertical-align: top;\n",
       "    }\n",
       "\n",
       "    .dataframe thead th {\n",
       "        text-align: right;\n",
       "    }\n",
       "</style>\n",
       "<table border=\"1\" class=\"dataframe\">\n",
       "  <thead>\n",
       "    <tr style=\"text-align: right;\">\n",
       "      <th></th>\n",
       "      <th>rating_id</th>\n",
       "      <th>book_id</th>\n",
       "      <th>username</th>\n",
       "      <th>rating</th>\n",
       "    </tr>\n",
       "  </thead>\n",
       "  <tbody>\n",
       "    <tr>\n",
       "      <th>0</th>\n",
       "      <td>1</td>\n",
       "      <td>1</td>\n",
       "      <td>ryanfranco</td>\n",
       "      <td>4</td>\n",
       "    </tr>\n",
       "    <tr>\n",
       "      <th>1</th>\n",
       "      <td>2</td>\n",
       "      <td>1</td>\n",
       "      <td>grantpatricia</td>\n",
       "      <td>2</td>\n",
       "    </tr>\n",
       "    <tr>\n",
       "      <th>2</th>\n",
       "      <td>3</td>\n",
       "      <td>1</td>\n",
       "      <td>brandtandrea</td>\n",
       "      <td>5</td>\n",
       "    </tr>\n",
       "    <tr>\n",
       "      <th>3</th>\n",
       "      <td>4</td>\n",
       "      <td>2</td>\n",
       "      <td>lorichen</td>\n",
       "      <td>3</td>\n",
       "    </tr>\n",
       "    <tr>\n",
       "      <th>4</th>\n",
       "      <td>5</td>\n",
       "      <td>2</td>\n",
       "      <td>mariokeller</td>\n",
       "      <td>2</td>\n",
       "    </tr>\n",
       "  </tbody>\n",
       "</table>\n",
       "</div>"
      ],
      "text/plain": [
       "   rating_id  book_id       username  rating\n",
       "0          1        1     ryanfranco       4\n",
       "1          2        1  grantpatricia       2\n",
       "2          3        1   brandtandrea       5\n",
       "3          4        2       lorichen       3\n",
       "4          5        2    mariokeller       2"
      ]
     },
     "execution_count": 6,
     "metadata": {},
     "output_type": "execute_result"
    }
   ],
   "source": [
    "query = '''\n",
    "            SELECT * FROM ratings\n",
    "        '''\n",
    "ratings = pd.io.sql.read_sql(query, con = engine)\n",
    "ratings.head()"
   ]
  },
  {
   "cell_type": "code",
   "execution_count": 7,
   "metadata": {},
   "outputs": [
    {
     "data": {
      "text/html": [
       "<div>\n",
       "<style scoped>\n",
       "    .dataframe tbody tr th:only-of-type {\n",
       "        vertical-align: middle;\n",
       "    }\n",
       "\n",
       "    .dataframe tbody tr th {\n",
       "        vertical-align: top;\n",
       "    }\n",
       "\n",
       "    .dataframe thead th {\n",
       "        text-align: right;\n",
       "    }\n",
       "</style>\n",
       "<table border=\"1\" class=\"dataframe\">\n",
       "  <thead>\n",
       "    <tr style=\"text-align: right;\">\n",
       "      <th></th>\n",
       "      <th>review_id</th>\n",
       "      <th>book_id</th>\n",
       "      <th>username</th>\n",
       "      <th>text</th>\n",
       "    </tr>\n",
       "  </thead>\n",
       "  <tbody>\n",
       "    <tr>\n",
       "      <th>0</th>\n",
       "      <td>1</td>\n",
       "      <td>1</td>\n",
       "      <td>brandtandrea</td>\n",
       "      <td>Mention society tell send professor analysis. ...</td>\n",
       "    </tr>\n",
       "    <tr>\n",
       "      <th>1</th>\n",
       "      <td>2</td>\n",
       "      <td>1</td>\n",
       "      <td>ryanfranco</td>\n",
       "      <td>Foot glass pretty audience hit themselves. Amo...</td>\n",
       "    </tr>\n",
       "    <tr>\n",
       "      <th>2</th>\n",
       "      <td>3</td>\n",
       "      <td>2</td>\n",
       "      <td>lorichen</td>\n",
       "      <td>Listen treat keep worry. Miss husband tax but ...</td>\n",
       "    </tr>\n",
       "    <tr>\n",
       "      <th>3</th>\n",
       "      <td>4</td>\n",
       "      <td>3</td>\n",
       "      <td>johnsonamanda</td>\n",
       "      <td>Finally month interesting blue could nature cu...</td>\n",
       "    </tr>\n",
       "    <tr>\n",
       "      <th>4</th>\n",
       "      <td>5</td>\n",
       "      <td>3</td>\n",
       "      <td>scotttamara</td>\n",
       "      <td>Nation purpose heavy give wait song will. List...</td>\n",
       "    </tr>\n",
       "  </tbody>\n",
       "</table>\n",
       "</div>"
      ],
      "text/plain": [
       "   review_id  book_id       username  \\\n",
       "0          1        1   brandtandrea   \n",
       "1          2        1     ryanfranco   \n",
       "2          3        2       lorichen   \n",
       "3          4        3  johnsonamanda   \n",
       "4          5        3    scotttamara   \n",
       "\n",
       "                                                text  \n",
       "0  Mention society tell send professor analysis. ...  \n",
       "1  Foot glass pretty audience hit themselves. Amo...  \n",
       "2  Listen treat keep worry. Miss husband tax but ...  \n",
       "3  Finally month interesting blue could nature cu...  \n",
       "4  Nation purpose heavy give wait song will. List...  "
      ]
     },
     "execution_count": 7,
     "metadata": {},
     "output_type": "execute_result"
    }
   ],
   "source": [
    "query = '''\n",
    "            SELECT * FROM reviews\n",
    "        '''\n",
    "reviews = pd.io.sql.read_sql(query, con = engine)\n",
    "reviews.head()"
   ]
  },
  {
   "cell_type": "markdown",
   "metadata": {},
   "source": [
    "## Задания\n",
    "\n",
    "### Посчитайте, сколько книг вышло после 1 января 2000 года;"
   ]
  },
  {
   "cell_type": "code",
   "execution_count": 8,
   "metadata": {
    "scrolled": true
   },
   "outputs": [
    {
     "data": {
      "text/html": [
       "<div>\n",
       "<style scoped>\n",
       "    .dataframe tbody tr th:only-of-type {\n",
       "        vertical-align: middle;\n",
       "    }\n",
       "\n",
       "    .dataframe tbody tr th {\n",
       "        vertical-align: top;\n",
       "    }\n",
       "\n",
       "    .dataframe thead th {\n",
       "        text-align: right;\n",
       "    }\n",
       "</style>\n",
       "<table border=\"1\" class=\"dataframe\">\n",
       "  <thead>\n",
       "    <tr style=\"text-align: right;\">\n",
       "      <th></th>\n",
       "      <th>count</th>\n",
       "    </tr>\n",
       "  </thead>\n",
       "  <tbody>\n",
       "    <tr>\n",
       "      <th>0</th>\n",
       "      <td>819</td>\n",
       "    </tr>\n",
       "  </tbody>\n",
       "</table>\n",
       "</div>"
      ],
      "text/plain": [
       "   count\n",
       "0    819"
      ]
     },
     "execution_count": 8,
     "metadata": {},
     "output_type": "execute_result"
    }
   ],
   "source": [
    "query_1 = '''\n",
    "            SELECT COUNT(book_id) \n",
    "            FROM books\n",
    "            WHERE publication_date > '2000-01-01'\n",
    "        '''\n",
    "pd.io.sql.read_sql(query_1, con = engine)"
   ]
  },
  {
   "cell_type": "markdown",
   "metadata": {},
   "source": [
    "**Вывод**\n",
    "\n",
    "819 книг вышло после 1 января 2000 года"
   ]
  },
  {
   "cell_type": "markdown",
   "metadata": {},
   "source": [
    "### Для каждой книги посчитайте количество обзоров и среднюю оценку;"
   ]
  },
  {
   "cell_type": "code",
   "execution_count": 9,
   "metadata": {},
   "outputs": [
    {
     "data": {
      "text/html": [
       "<div>\n",
       "<style scoped>\n",
       "    .dataframe tbody tr th:only-of-type {\n",
       "        vertical-align: middle;\n",
       "    }\n",
       "\n",
       "    .dataframe tbody tr th {\n",
       "        vertical-align: top;\n",
       "    }\n",
       "\n",
       "    .dataframe thead th {\n",
       "        text-align: right;\n",
       "    }\n",
       "</style>\n",
       "<table border=\"1\" class=\"dataframe\">\n",
       "  <thead>\n",
       "    <tr style=\"text-align: right;\">\n",
       "      <th></th>\n",
       "      <th>title</th>\n",
       "      <th>count_reviews</th>\n",
       "      <th>avg_rating</th>\n",
       "    </tr>\n",
       "  </thead>\n",
       "  <tbody>\n",
       "    <tr>\n",
       "      <th>0</th>\n",
       "      <td>V for Vendetta</td>\n",
       "      <td>3</td>\n",
       "      <td>4.22</td>\n",
       "    </tr>\n",
       "    <tr>\n",
       "      <th>1</th>\n",
       "      <td>The Fiery Cross (Outlander  #5)</td>\n",
       "      <td>4</td>\n",
       "      <td>4.20</td>\n",
       "    </tr>\n",
       "    <tr>\n",
       "      <th>2</th>\n",
       "      <td>The Canterbury Tales</td>\n",
       "      <td>3</td>\n",
       "      <td>3.33</td>\n",
       "    </tr>\n",
       "    <tr>\n",
       "      <th>3</th>\n",
       "      <td>Burning Chrome (Sprawl  #0)</td>\n",
       "      <td>2</td>\n",
       "      <td>4.50</td>\n",
       "    </tr>\n",
       "    <tr>\n",
       "      <th>4</th>\n",
       "      <td>The Summons</td>\n",
       "      <td>3</td>\n",
       "      <td>4.33</td>\n",
       "    </tr>\n",
       "    <tr>\n",
       "      <th>...</th>\n",
       "      <td>...</td>\n",
       "      <td>...</td>\n",
       "      <td>...</td>\n",
       "    </tr>\n",
       "    <tr>\n",
       "      <th>995</th>\n",
       "      <td>The Notebook (The Notebook  #1)</td>\n",
       "      <td>5</td>\n",
       "      <td>3.87</td>\n",
       "    </tr>\n",
       "    <tr>\n",
       "      <th>996</th>\n",
       "      <td>The Innocent Man: Murder and Injustice in a Sm...</td>\n",
       "      <td>2</td>\n",
       "      <td>4.50</td>\n",
       "    </tr>\n",
       "    <tr>\n",
       "      <th>997</th>\n",
       "      <td>Rules of Prey (Lucas Davenport  #1)</td>\n",
       "      <td>3</td>\n",
       "      <td>3.33</td>\n",
       "    </tr>\n",
       "    <tr>\n",
       "      <th>998</th>\n",
       "      <td>A Hunger Like No Other (Immortals After Dark  #1)</td>\n",
       "      <td>2</td>\n",
       "      <td>4.00</td>\n",
       "    </tr>\n",
       "    <tr>\n",
       "      <th>999</th>\n",
       "      <td>Equal Rites (Discworld  #3; Witches  #1)</td>\n",
       "      <td>3</td>\n",
       "      <td>4.25</td>\n",
       "    </tr>\n",
       "  </tbody>\n",
       "</table>\n",
       "<p>1000 rows × 3 columns</p>\n",
       "</div>"
      ],
      "text/plain": [
       "                                                 title  count_reviews  \\\n",
       "0                                       V for Vendetta              3   \n",
       "1                      The Fiery Cross (Outlander  #5)              4   \n",
       "2                                 The Canterbury Tales              3   \n",
       "3                          Burning Chrome (Sprawl  #0)              2   \n",
       "4                                          The Summons              3   \n",
       "..                                                 ...            ...   \n",
       "995                    The Notebook (The Notebook  #1)              5   \n",
       "996  The Innocent Man: Murder and Injustice in a Sm...              2   \n",
       "997                Rules of Prey (Lucas Davenport  #1)              3   \n",
       "998  A Hunger Like No Other (Immortals After Dark  #1)              2   \n",
       "999           Equal Rites (Discworld  #3; Witches  #1)              3   \n",
       "\n",
       "     avg_rating  \n",
       "0          4.22  \n",
       "1          4.20  \n",
       "2          3.33  \n",
       "3          4.50  \n",
       "4          4.33  \n",
       "..          ...  \n",
       "995        3.87  \n",
       "996        4.50  \n",
       "997        3.33  \n",
       "998        4.00  \n",
       "999        4.25  \n",
       "\n",
       "[1000 rows x 3 columns]"
      ]
     },
     "execution_count": 9,
     "metadata": {},
     "output_type": "execute_result"
    }
   ],
   "source": [
    "query_2 = '''\n",
    "            WITH \n",
    "            re AS ( SELECT  b.title,\n",
    "                            b.book_id,\n",
    "                    COUNT(rev.review_id) AS count_reviews\n",
    "                    FROM books as b\n",
    "                    FULL OUTER JOIN reviews AS rev ON b.book_id = rev.book_id\n",
    "                    GROUP BY b.title, b.book_id)\n",
    "            \n",
    "            SELECT  re.title,\n",
    "                    re.count_reviews,\n",
    "                    ROUND(AVG(r.rating), 2) AS avg_rating\n",
    "            FROM re\n",
    "            FULL OUTER JOIN ratings AS r ON re.book_id = r.book_id\n",
    "            GROUP BY re.title, re.count_reviews\n",
    "            \n",
    "        '''\n",
    "pd.io.sql.read_sql(query_2, con = engine)"
   ]
  },
  {
   "cell_type": "markdown",
   "metadata": {},
   "source": [
    "**Вывод**\n",
    "\n",
    "Мы получили таблицу 1000 строк - количесвто книг в нашей базе, посчитали количество обзоров `count_reviews` для каждой книги, и среднюю пользовательскую оценку `avg_rating`"
   ]
  },
  {
   "cell_type": "markdown",
   "metadata": {},
   "source": [
    "### Определите издательство, которое выпустило наибольшее число книг толще 50 страниц — так вы исключите из анализа брошюры;"
   ]
  },
  {
   "cell_type": "code",
   "execution_count": 10,
   "metadata": {},
   "outputs": [
    {
     "data": {
      "text/html": [
       "<div>\n",
       "<style scoped>\n",
       "    .dataframe tbody tr th:only-of-type {\n",
       "        vertical-align: middle;\n",
       "    }\n",
       "\n",
       "    .dataframe tbody tr th {\n",
       "        vertical-align: top;\n",
       "    }\n",
       "\n",
       "    .dataframe thead th {\n",
       "        text-align: right;\n",
       "    }\n",
       "</style>\n",
       "<table border=\"1\" class=\"dataframe\">\n",
       "  <thead>\n",
       "    <tr style=\"text-align: right;\">\n",
       "      <th></th>\n",
       "      <th>publisher</th>\n",
       "      <th>count</th>\n",
       "    </tr>\n",
       "  </thead>\n",
       "  <tbody>\n",
       "    <tr>\n",
       "      <th>0</th>\n",
       "      <td>Penguin Books</td>\n",
       "      <td>42</td>\n",
       "    </tr>\n",
       "    <tr>\n",
       "      <th>1</th>\n",
       "      <td>Vintage</td>\n",
       "      <td>31</td>\n",
       "    </tr>\n",
       "    <tr>\n",
       "      <th>2</th>\n",
       "      <td>Grand Central Publishing</td>\n",
       "      <td>25</td>\n",
       "    </tr>\n",
       "    <tr>\n",
       "      <th>3</th>\n",
       "      <td>Penguin Classics</td>\n",
       "      <td>24</td>\n",
       "    </tr>\n",
       "    <tr>\n",
       "      <th>4</th>\n",
       "      <td>Ballantine Books</td>\n",
       "      <td>19</td>\n",
       "    </tr>\n",
       "    <tr>\n",
       "      <th>...</th>\n",
       "      <td>...</td>\n",
       "      <td>...</td>\n",
       "    </tr>\n",
       "    <tr>\n",
       "      <th>329</th>\n",
       "      <td>Turtleback</td>\n",
       "      <td>1</td>\n",
       "    </tr>\n",
       "    <tr>\n",
       "      <th>330</th>\n",
       "      <td>Atheneum Books for Young Readers: Richard Jack...</td>\n",
       "      <td>1</td>\n",
       "    </tr>\n",
       "    <tr>\n",
       "      <th>331</th>\n",
       "      <td>Penguin Signet</td>\n",
       "      <td>1</td>\n",
       "    </tr>\n",
       "    <tr>\n",
       "      <th>332</th>\n",
       "      <td>Victor Gollancz</td>\n",
       "      <td>1</td>\n",
       "    </tr>\n",
       "    <tr>\n",
       "      <th>333</th>\n",
       "      <td>Harvard Business Review Press</td>\n",
       "      <td>1</td>\n",
       "    </tr>\n",
       "  </tbody>\n",
       "</table>\n",
       "<p>334 rows × 2 columns</p>\n",
       "</div>"
      ],
      "text/plain": [
       "                                             publisher  count\n",
       "0                                        Penguin Books     42\n",
       "1                                              Vintage     31\n",
       "2                             Grand Central Publishing     25\n",
       "3                                     Penguin Classics     24\n",
       "4                                     Ballantine Books     19\n",
       "..                                                 ...    ...\n",
       "329                                         Turtleback      1\n",
       "330  Atheneum Books for Young Readers: Richard Jack...      1\n",
       "331                                     Penguin Signet      1\n",
       "332                                    Victor Gollancz      1\n",
       "333                      Harvard Business Review Press      1\n",
       "\n",
       "[334 rows x 2 columns]"
      ]
     },
     "execution_count": 10,
     "metadata": {},
     "output_type": "execute_result"
    }
   ],
   "source": [
    "query_3 = '''\n",
    "            SELECT  p.publisher,\n",
    "                    COUNT(b.book_id)\n",
    "            FROM publishers as p\n",
    "            LEFT JOIN books AS b ON b.publisher_id = p.publisher_id\n",
    "            WHERE b.num_pages > 50\n",
    "            GROUP BY p.publisher\n",
    "            ORDER BY COUNT(b.book_id) DESC\n",
    "        '''\n",
    "pd.io.sql.read_sql(query_3, con = engine)"
   ]
  },
  {
   "cell_type": "markdown",
   "metadata": {},
   "source": [
    "**Вывод**\n",
    "\n",
    "Издательство, которое выпустило наибольшее число книг толще 50 страниц - `Penguin Books\t`\n",
    "\n",
    "Чтобы удостоверится что сортировка работает правильно вывела все издательства где есть книги больше 50 страниц, и само количество книг"
   ]
  },
  {
   "cell_type": "markdown",
   "metadata": {},
   "source": [
    "### Определите автора с самой высокой средней оценкой книг — учитывайте только книги с 50 и более оценками;"
   ]
  },
  {
   "cell_type": "code",
   "execution_count": 11,
   "metadata": {},
   "outputs": [
    {
     "data": {
      "text/html": [
       "<div>\n",
       "<style scoped>\n",
       "    .dataframe tbody tr th:only-of-type {\n",
       "        vertical-align: middle;\n",
       "    }\n",
       "\n",
       "    .dataframe tbody tr th {\n",
       "        vertical-align: top;\n",
       "    }\n",
       "\n",
       "    .dataframe thead th {\n",
       "        text-align: right;\n",
       "    }\n",
       "</style>\n",
       "<table border=\"1\" class=\"dataframe\">\n",
       "  <thead>\n",
       "    <tr style=\"text-align: right;\">\n",
       "      <th></th>\n",
       "      <th>author</th>\n",
       "      <th>avg</th>\n",
       "    </tr>\n",
       "  </thead>\n",
       "  <tbody>\n",
       "    <tr>\n",
       "      <th>0</th>\n",
       "      <td>J.K. Rowling/Mary GrandPré</td>\n",
       "      <td>4.285</td>\n",
       "    </tr>\n",
       "    <tr>\n",
       "      <th>1</th>\n",
       "      <td>Markus Zusak/Cao Xuân Việt Khương</td>\n",
       "      <td>4.260</td>\n",
       "    </tr>\n",
       "    <tr>\n",
       "      <th>2</th>\n",
       "      <td>J.R.R. Tolkien</td>\n",
       "      <td>4.260</td>\n",
       "    </tr>\n",
       "    <tr>\n",
       "      <th>3</th>\n",
       "      <td>Louisa May Alcott</td>\n",
       "      <td>4.190</td>\n",
       "    </tr>\n",
       "    <tr>\n",
       "      <th>4</th>\n",
       "      <td>Rick Riordan</td>\n",
       "      <td>4.080</td>\n",
       "    </tr>\n",
       "    <tr>\n",
       "      <th>5</th>\n",
       "      <td>William Golding</td>\n",
       "      <td>3.900</td>\n",
       "    </tr>\n",
       "    <tr>\n",
       "      <th>6</th>\n",
       "      <td>J.D. Salinger</td>\n",
       "      <td>3.830</td>\n",
       "    </tr>\n",
       "    <tr>\n",
       "      <th>7</th>\n",
       "      <td>William Shakespeare/Paul Werstine/Barbara A. M...</td>\n",
       "      <td>3.790</td>\n",
       "    </tr>\n",
       "    <tr>\n",
       "      <th>8</th>\n",
       "      <td>Paulo Coelho/Alan R. Clarke/Özdemir İnce</td>\n",
       "      <td>3.790</td>\n",
       "    </tr>\n",
       "    <tr>\n",
       "      <th>9</th>\n",
       "      <td>Dan Brown</td>\n",
       "      <td>3.755</td>\n",
       "    </tr>\n",
       "    <tr>\n",
       "      <th>10</th>\n",
       "      <td>Lois Lowry</td>\n",
       "      <td>3.750</td>\n",
       "    </tr>\n",
       "    <tr>\n",
       "      <th>11</th>\n",
       "      <td>George Orwell/Boris Grabnar/Peter Škerl</td>\n",
       "      <td>3.730</td>\n",
       "    </tr>\n",
       "    <tr>\n",
       "      <th>12</th>\n",
       "      <td>Stephenie Meyer</td>\n",
       "      <td>3.660</td>\n",
       "    </tr>\n",
       "    <tr>\n",
       "      <th>13</th>\n",
       "      <td>John Steinbeck</td>\n",
       "      <td>3.620</td>\n",
       "    </tr>\n",
       "  </tbody>\n",
       "</table>\n",
       "</div>"
      ],
      "text/plain": [
       "                                               author    avg\n",
       "0                          J.K. Rowling/Mary GrandPré  4.285\n",
       "1                   Markus Zusak/Cao Xuân Việt Khương  4.260\n",
       "2                                      J.R.R. Tolkien  4.260\n",
       "3                                   Louisa May Alcott  4.190\n",
       "4                                        Rick Riordan  4.080\n",
       "5                                     William Golding  3.900\n",
       "6                                       J.D. Salinger  3.830\n",
       "7   William Shakespeare/Paul Werstine/Barbara A. M...  3.790\n",
       "8            Paulo Coelho/Alan R. Clarke/Özdemir İnce  3.790\n",
       "9                                           Dan Brown  3.755\n",
       "10                                         Lois Lowry  3.750\n",
       "11            George Orwell/Boris Grabnar/Peter Škerl  3.730\n",
       "12                                    Stephenie Meyer  3.660\n",
       "13                                     John Steinbeck  3.620"
      ]
     },
     "execution_count": 11,
     "metadata": {},
     "output_type": "execute_result"
    }
   ],
   "source": [
    "query_4 = '''\n",
    "            \n",
    "            WITH\n",
    "            br AS (SELECT  a.author,\n",
    "                           ROUND(AVG(r.rating), 2) as avg_book_rating\n",
    "                   FROM authors as a\n",
    "                   LEFT JOIN books AS b ON b.author_id = a.author_id\n",
    "                   LEFT JOIN ratings AS r ON r.book_id = b.book_id\n",
    "                   GROUP BY b.book_id, a.author\n",
    "                   having COUNT(r.rating) >= 50)\n",
    "            \n",
    "            SELECT br.author,\n",
    "                   AVG(avg_book_rating)\n",
    "            FROM br\n",
    "            GROUP BY br.author\n",
    "            ORDER BY AVG(avg_book_rating) DESC\n",
    "        '''\n",
    "pd.io.sql.read_sql(query_4, con = engine)"
   ]
  },
  {
   "cell_type": "markdown",
   "metadata": {},
   "source": [
    "**Вывод**\n",
    "\n",
    "Автор с самой высокой средней оценкой книг - `J.K. Rowling/Mary GrandPré`\n",
    "\n",
    "Чтобы удостоверится что сортировка работает правильно вывела всех авторов книг с более 50 оценок, и саму среднюю оценку"
   ]
  },
  {
   "cell_type": "markdown",
   "metadata": {},
   "source": [
    "### Посчитайте среднее количество обзоров от пользователей, которые поставили больше 50 оценок."
   ]
  },
  {
   "cell_type": "code",
   "execution_count": 12,
   "metadata": {},
   "outputs": [
    {
     "data": {
      "text/html": [
       "<div>\n",
       "<style scoped>\n",
       "    .dataframe tbody tr th:only-of-type {\n",
       "        vertical-align: middle;\n",
       "    }\n",
       "\n",
       "    .dataframe tbody tr th {\n",
       "        vertical-align: top;\n",
       "    }\n",
       "\n",
       "    .dataframe thead th {\n",
       "        text-align: right;\n",
       "    }\n",
       "</style>\n",
       "<table border=\"1\" class=\"dataframe\">\n",
       "  <thead>\n",
       "    <tr style=\"text-align: right;\">\n",
       "      <th></th>\n",
       "      <th>round</th>\n",
       "    </tr>\n",
       "  </thead>\n",
       "  <tbody>\n",
       "    <tr>\n",
       "      <th>0</th>\n",
       "      <td>24.0</td>\n",
       "    </tr>\n",
       "  </tbody>\n",
       "</table>\n",
       "</div>"
      ],
      "text/plain": [
       "   round\n",
       "0   24.0"
      ]
     },
     "execution_count": 12,
     "metadata": {},
     "output_type": "execute_result"
    }
   ],
   "source": [
    "query_5 = '''\n",
    "            \n",
    "            WITH\n",
    "            u_r AS (SELECT  username  \n",
    "                    FROM ratings\n",
    "                    GROUP BY username\n",
    "                    HAVING COUNT(rating_id) >= 50),\n",
    "            \n",
    "            rev AS (SELECT username,\n",
    "                           COUNT(review_id) as rev_count \n",
    "                    FROM reviews\n",
    "                    GROUP BY username)\n",
    "           \n",
    "           SELECT ROUND(AVG(rev.rev_count))\n",
    "            \n",
    "           FROM u_r\n",
    "           JOIN rev ON u_r.username = rev.username\n",
    "           WHERE rev.username IN (u_r.username)\n",
    "           \n",
    "        '''\n",
    "pd.io.sql.read_sql(query_5, con = engine)"
   ]
  },
  {
   "cell_type": "markdown",
   "metadata": {},
   "source": [
    "**Вывод**\n",
    "\n",
    "Пользователей, поставивших больше 50 оценок всего 9. Их среднее число рецензий 24."
   ]
  },
  {
   "cell_type": "code",
   "execution_count": 13,
   "metadata": {},
   "outputs": [
    {
     "data": {
      "text/html": [
       "<div>\n",
       "<style scoped>\n",
       "    .dataframe tbody tr th:only-of-type {\n",
       "        vertical-align: middle;\n",
       "    }\n",
       "\n",
       "    .dataframe tbody tr th {\n",
       "        vertical-align: top;\n",
       "    }\n",
       "\n",
       "    .dataframe thead th {\n",
       "        text-align: right;\n",
       "    }\n",
       "</style>\n",
       "<table border=\"1\" class=\"dataframe\">\n",
       "  <thead>\n",
       "    <tr style=\"text-align: right;\">\n",
       "      <th></th>\n",
       "      <th>title</th>\n",
       "      <th>rating</th>\n",
       "      <th>count</th>\n",
       "    </tr>\n",
       "  </thead>\n",
       "  <tbody>\n",
       "    <tr>\n",
       "      <th>0</th>\n",
       "      <td>Far From the Madding Crowd</td>\n",
       "      <td>4.250000</td>\n",
       "      <td>3</td>\n",
       "    </tr>\n",
       "    <tr>\n",
       "      <th>1</th>\n",
       "      <td>2nd Chance (Women's Murder Club  #2)</td>\n",
       "      <td>3.000000</td>\n",
       "      <td>3</td>\n",
       "    </tr>\n",
       "    <tr>\n",
       "      <th>2</th>\n",
       "      <td>Fullmetal Alchemist  Vol. 1 (Fullmetal Alchemi...</td>\n",
       "      <td>4.250000</td>\n",
       "      <td>2</td>\n",
       "    </tr>\n",
       "    <tr>\n",
       "      <th>3</th>\n",
       "      <td>Mystic River</td>\n",
       "      <td>4.250000</td>\n",
       "      <td>3</td>\n",
       "    </tr>\n",
       "    <tr>\n",
       "      <th>4</th>\n",
       "      <td>Suzanne's Diary for Nicholas</td>\n",
       "      <td>4.600000</td>\n",
       "      <td>3</td>\n",
       "    </tr>\n",
       "    <tr>\n",
       "      <th>...</th>\n",
       "      <td>...</td>\n",
       "      <td>...</td>\n",
       "      <td>...</td>\n",
       "    </tr>\n",
       "    <tr>\n",
       "      <th>995</th>\n",
       "      <td>Year of Wonders</td>\n",
       "      <td>3.200000</td>\n",
       "      <td>4</td>\n",
       "    </tr>\n",
       "    <tr>\n",
       "      <th>996</th>\n",
       "      <td>The House of Mirth</td>\n",
       "      <td>4.000000</td>\n",
       "      <td>3</td>\n",
       "    </tr>\n",
       "    <tr>\n",
       "      <th>997</th>\n",
       "      <td>True Believer (Jeremy Marsh &amp; Lexie Darnell  #1)</td>\n",
       "      <td>4.333333</td>\n",
       "      <td>3</td>\n",
       "    </tr>\n",
       "    <tr>\n",
       "      <th>998</th>\n",
       "      <td>Goodnight Nobody</td>\n",
       "      <td>3.500000</td>\n",
       "      <td>2</td>\n",
       "    </tr>\n",
       "    <tr>\n",
       "      <th>999</th>\n",
       "      <td>Carpe Jugulum (Discworld #23; Witches #6)</td>\n",
       "      <td>4.000000</td>\n",
       "      <td>2</td>\n",
       "    </tr>\n",
       "  </tbody>\n",
       "</table>\n",
       "<p>1000 rows × 3 columns</p>\n",
       "</div>"
      ],
      "text/plain": [
       "                                                 title    rating  count\n",
       "0                           Far From the Madding Crowd  4.250000      3\n",
       "1                 2nd Chance (Women's Murder Club  #2)  3.000000      3\n",
       "2    Fullmetal Alchemist  Vol. 1 (Fullmetal Alchemi...  4.250000      2\n",
       "3                                         Mystic River  4.250000      3\n",
       "4                         Suzanne's Diary for Nicholas  4.600000      3\n",
       "..                                                 ...       ...    ...\n",
       "995                                    Year of Wonders  3.200000      4\n",
       "996                                 The House of Mirth  4.000000      3\n",
       "997   True Believer (Jeremy Marsh & Lexie Darnell  #1)  4.333333      3\n",
       "998                                   Goodnight Nobody  3.500000      2\n",
       "999          Carpe Jugulum (Discworld #23; Witches #6)  4.000000      2\n",
       "\n",
       "[1000 rows x 3 columns]"
      ]
     },
     "execution_count": 13,
     "metadata": {},
     "output_type": "execute_result"
    }
   ],
   "source": [
    "query = '''\n",
    "        WITH\n",
    "        i as(SELECT b.title as title, b.book_id as book_id, AVG(ra.rating) as rating\n",
    "            FROM books as b\n",
    "            LEFT JOIN ratings as ra ON b.book_id = ra.book_id\n",
    "            GROUP BY b.book_id )\n",
    "            \n",
    "        SELECT i.title, i.rating, COUNT(re.review_id)\n",
    "        FROM i LEFT JOIN reviews as re ON i.book_id = re.book_id\n",
    "        GROUP BY i.title, i.rating\n",
    "        '''\n",
    "pd.io.sql. read_sql (query, con = engine)\n"
   ]
  }
 ],
 "metadata": {
  "ExecuteTimeLog": [
   {
    "duration": 81,
    "start_time": "2022-07-26T05:55:53.718Z"
   },
   {
    "duration": 8561,
    "start_time": "2022-07-26T05:59:15.237Z"
   },
   {
    "duration": 60,
    "start_time": "2022-07-26T06:06:32.717Z"
   },
   {
    "duration": 23,
    "start_time": "2022-07-26T06:06:41.412Z"
   },
   {
    "duration": 13,
    "start_time": "2022-07-26T07:27:27.089Z"
   },
   {
    "duration": 21,
    "start_time": "2022-07-26T07:27:46.638Z"
   },
   {
    "duration": 29,
    "start_time": "2022-07-26T07:28:03.077Z"
   },
   {
    "duration": 28,
    "start_time": "2022-07-26T07:28:16.556Z"
   },
   {
    "duration": 11250,
    "start_time": "2022-07-26T08:15:04.249Z"
   },
   {
    "duration": 75,
    "start_time": "2022-07-26T08:15:15.501Z"
   },
   {
    "duration": 12,
    "start_time": "2022-07-26T08:15:15.578Z"
   },
   {
    "duration": 11,
    "start_time": "2022-07-26T08:15:15.592Z"
   },
   {
    "duration": 28,
    "start_time": "2022-07-26T08:15:15.605Z"
   },
   {
    "duration": 20,
    "start_time": "2022-07-26T08:15:15.635Z"
   },
   {
    "duration": 8,
    "start_time": "2022-07-26T08:21:44.773Z"
   },
   {
    "duration": 10,
    "start_time": "2022-07-26T08:21:49.717Z"
   },
   {
    "duration": 12,
    "start_time": "2022-07-26T08:51:07.800Z"
   },
   {
    "duration": 12,
    "start_time": "2022-07-26T08:51:46.246Z"
   },
   {
    "duration": 193,
    "start_time": "2022-07-26T09:00:50.456Z"
   },
   {
    "duration": 138,
    "start_time": "2022-07-26T09:01:30.733Z"
   },
   {
    "duration": 30,
    "start_time": "2022-07-26T09:01:37.438Z"
   },
   {
    "duration": 28,
    "start_time": "2022-07-26T09:02:14.108Z"
   },
   {
    "duration": 28,
    "start_time": "2022-07-26T09:02:48.176Z"
   },
   {
    "duration": 28,
    "start_time": "2022-07-26T09:02:59.347Z"
   },
   {
    "duration": 29,
    "start_time": "2022-07-26T09:03:17.945Z"
   },
   {
    "duration": 32,
    "start_time": "2022-07-26T09:03:36.540Z"
   },
   {
    "duration": 31,
    "start_time": "2022-07-26T09:03:57.442Z"
   },
   {
    "duration": 21,
    "start_time": "2022-07-26T09:04:23.497Z"
   },
   {
    "duration": 25,
    "start_time": "2022-07-26T09:04:37.391Z"
   },
   {
    "duration": 18,
    "start_time": "2022-07-26T09:04:41.464Z"
   },
   {
    "duration": 102,
    "start_time": "2022-07-26T09:16:27.130Z"
   },
   {
    "duration": 123,
    "start_time": "2022-07-26T09:16:42.235Z"
   },
   {
    "duration": 105,
    "start_time": "2022-07-26T09:20:54.786Z"
   },
   {
    "duration": 99,
    "start_time": "2022-07-26T09:21:09.321Z"
   },
   {
    "duration": 124,
    "start_time": "2022-07-26T09:21:36.344Z"
   },
   {
    "duration": 120,
    "start_time": "2022-07-26T09:21:53.995Z"
   },
   {
    "duration": 15,
    "start_time": "2022-07-26T09:22:15.415Z"
   },
   {
    "duration": 13,
    "start_time": "2022-07-26T09:26:07.103Z"
   },
   {
    "duration": 103,
    "start_time": "2022-07-26T09:36:00.872Z"
   },
   {
    "duration": 191,
    "start_time": "2022-07-26T09:36:40.905Z"
   },
   {
    "duration": 28,
    "start_time": "2022-07-26T09:37:03.382Z"
   },
   {
    "duration": 123,
    "start_time": "2022-07-26T09:52:57.435Z"
   },
   {
    "duration": 197,
    "start_time": "2022-07-26T09:53:31.687Z"
   },
   {
    "duration": 103,
    "start_time": "2022-07-26T09:54:02.616Z"
   },
   {
    "duration": 17,
    "start_time": "2022-07-26T09:54:19.522Z"
   },
   {
    "duration": 109,
    "start_time": "2022-07-26T09:54:49.339Z"
   },
   {
    "duration": 106,
    "start_time": "2022-07-26T09:54:56.344Z"
   },
   {
    "duration": 22,
    "start_time": "2022-07-26T09:55:09.799Z"
   },
   {
    "duration": 16,
    "start_time": "2022-07-26T09:55:23.634Z"
   },
   {
    "duration": 17,
    "start_time": "2022-07-26T09:56:54.838Z"
   },
   {
    "duration": 95,
    "start_time": "2022-07-26T10:00:39.985Z"
   },
   {
    "duration": 29,
    "start_time": "2022-07-26T10:01:10.204Z"
   },
   {
    "duration": 18,
    "start_time": "2022-07-26T10:01:44.933Z"
   },
   {
    "duration": 37,
    "start_time": "2022-07-26T10:02:33.792Z"
   },
   {
    "duration": 19,
    "start_time": "2022-07-26T10:02:51.669Z"
   },
   {
    "duration": 137,
    "start_time": "2022-07-26T10:08:54.089Z"
   },
   {
    "duration": 176,
    "start_time": "2022-07-26T10:09:27.584Z"
   },
   {
    "duration": 99,
    "start_time": "2022-07-26T10:09:50.535Z"
   },
   {
    "duration": 120,
    "start_time": "2022-07-26T10:10:20.547Z"
   },
   {
    "duration": 21,
    "start_time": "2022-07-26T10:10:38.357Z"
   },
   {
    "duration": 19,
    "start_time": "2022-07-26T10:11:18.480Z"
   },
   {
    "duration": 22,
    "start_time": "2022-07-26T10:11:28.911Z"
   },
   {
    "duration": 16,
    "start_time": "2022-07-26T10:11:58.578Z"
   },
   {
    "duration": 57,
    "start_time": "2022-07-26T10:21:36.995Z"
   },
   {
    "duration": 29,
    "start_time": "2022-07-26T10:32:53.644Z"
   },
   {
    "duration": 7,
    "start_time": "2022-07-26T10:33:16.954Z"
   },
   {
    "duration": 19,
    "start_time": "2022-07-26T10:33:22.894Z"
   },
   {
    "duration": 19,
    "start_time": "2022-07-26T10:33:43.099Z"
   },
   {
    "duration": 15,
    "start_time": "2022-07-26T10:33:44.652Z"
   },
   {
    "duration": 29,
    "start_time": "2022-07-26T10:33:55.699Z"
   },
   {
    "duration": 249,
    "start_time": "2022-07-26T10:39:42.865Z"
   },
   {
    "duration": 23,
    "start_time": "2022-07-26T10:39:52.396Z"
   },
   {
    "duration": 357,
    "start_time": "2022-07-26T10:40:26.751Z"
   },
   {
    "duration": 333,
    "start_time": "2022-07-26T10:40:37.913Z"
   },
   {
    "duration": 25,
    "start_time": "2022-07-26T10:40:52.675Z"
   },
   {
    "duration": 139,
    "start_time": "2022-07-26T10:42:24.517Z"
   },
   {
    "duration": 98,
    "start_time": "2022-07-26T10:42:32.620Z"
   },
   {
    "duration": 104,
    "start_time": "2022-07-26T10:42:42.574Z"
   },
   {
    "duration": 130,
    "start_time": "2022-07-26T10:43:00.272Z"
   },
   {
    "duration": 94,
    "start_time": "2022-07-26T10:44:20.158Z"
   },
   {
    "duration": 17,
    "start_time": "2022-07-26T10:44:29.658Z"
   },
   {
    "duration": 17,
    "start_time": "2022-07-26T10:44:41.215Z"
   },
   {
    "duration": 20,
    "start_time": "2022-07-26T10:45:47.770Z"
   },
   {
    "duration": 17,
    "start_time": "2022-07-26T10:46:03.194Z"
   },
   {
    "duration": 32,
    "start_time": "2022-07-26T10:46:39.049Z"
   },
   {
    "duration": 20,
    "start_time": "2022-07-26T10:54:57.624Z"
   },
   {
    "duration": 116,
    "start_time": "2022-07-26T10:55:06.578Z"
   },
   {
    "duration": 124,
    "start_time": "2022-07-26T10:55:13.742Z"
   },
   {
    "duration": 114,
    "start_time": "2022-07-26T10:55:24.416Z"
   },
   {
    "duration": 14,
    "start_time": "2022-07-26T10:56:10.576Z"
   },
   {
    "duration": 96,
    "start_time": "2022-07-26T10:59:50.741Z"
   },
   {
    "duration": 119,
    "start_time": "2022-07-26T11:01:33.554Z"
   },
   {
    "duration": 140,
    "start_time": "2022-07-26T11:01:40.989Z"
   },
   {
    "duration": 115,
    "start_time": "2022-07-26T11:02:10.746Z"
   },
   {
    "duration": 96,
    "start_time": "2022-07-26T11:05:15.123Z"
   },
   {
    "duration": 103,
    "start_time": "2022-07-26T11:06:11.555Z"
   },
   {
    "duration": 124,
    "start_time": "2022-07-26T11:06:20.114Z"
   },
   {
    "duration": 104,
    "start_time": "2022-07-26T11:06:27.836Z"
   },
   {
    "duration": 16,
    "start_time": "2022-07-26T11:06:36.752Z"
   },
   {
    "duration": 16,
    "start_time": "2022-07-26T11:06:58.887Z"
   },
   {
    "duration": 143,
    "start_time": "2022-07-26T11:07:30.571Z"
   },
   {
    "duration": 16,
    "start_time": "2022-07-26T11:07:37.257Z"
   },
   {
    "duration": 151,
    "start_time": "2022-07-26T11:16:54.960Z"
   },
   {
    "duration": 102,
    "start_time": "2022-07-26T11:17:04.488Z"
   },
   {
    "duration": 22,
    "start_time": "2022-07-26T11:17:13.718Z"
   },
   {
    "duration": 169,
    "start_time": "2022-07-26T11:29:29.130Z"
   },
   {
    "duration": 120,
    "start_time": "2022-07-26T11:29:50.277Z"
   },
   {
    "duration": 15,
    "start_time": "2022-07-26T11:29:54.473Z"
   },
   {
    "duration": 19,
    "start_time": "2022-07-26T11:30:46.143Z"
   },
   {
    "duration": 15,
    "start_time": "2022-07-26T11:35:19.045Z"
   },
   {
    "duration": 29,
    "start_time": "2022-07-26T11:35:27.721Z"
   },
   {
    "duration": 17926,
    "start_time": "2022-07-26T11:36:13.590Z"
   },
   {
    "duration": 87,
    "start_time": "2022-07-26T11:36:31.519Z"
   },
   {
    "duration": 39,
    "start_time": "2022-07-26T11:36:31.609Z"
   },
   {
    "duration": 15,
    "start_time": "2022-07-26T11:36:31.650Z"
   },
   {
    "duration": 27,
    "start_time": "2022-07-26T11:36:31.667Z"
   },
   {
    "duration": 38,
    "start_time": "2022-07-26T11:36:31.696Z"
   },
   {
    "duration": 12,
    "start_time": "2022-07-26T11:36:31.735Z"
   },
   {
    "duration": 32,
    "start_time": "2022-07-26T11:36:31.750Z"
   },
   {
    "duration": 20,
    "start_time": "2022-07-26T11:36:31.785Z"
   },
   {
    "duration": 43,
    "start_time": "2022-07-26T11:36:31.807Z"
   },
   {
    "duration": 17,
    "start_time": "2022-07-26T11:36:31.852Z"
   },
   {
    "duration": 12615,
    "start_time": "2022-07-27T05:47:58.902Z"
   },
   {
    "duration": 135,
    "start_time": "2022-07-27T05:48:11.519Z"
   },
   {
    "duration": 18,
    "start_time": "2022-07-27T05:48:11.655Z"
   },
   {
    "duration": 16,
    "start_time": "2022-07-27T05:48:11.675Z"
   },
   {
    "duration": 41,
    "start_time": "2022-07-27T05:48:11.693Z"
   },
   {
    "duration": 23,
    "start_time": "2022-07-27T05:48:11.736Z"
   },
   {
    "duration": 14,
    "start_time": "2022-07-27T05:48:11.761Z"
   },
   {
    "duration": 36,
    "start_time": "2022-07-27T05:48:11.777Z"
   },
   {
    "duration": 29,
    "start_time": "2022-07-27T05:48:11.816Z"
   },
   {
    "duration": 26,
    "start_time": "2022-07-27T05:48:11.849Z"
   },
   {
    "duration": 26,
    "start_time": "2022-07-27T05:48:11.879Z"
   },
   {
    "duration": 19,
    "start_time": "2022-07-27T05:49:00.390Z"
   },
   {
    "duration": 24,
    "start_time": "2022-07-27T05:49:02.977Z"
   },
   {
    "duration": 121,
    "start_time": "2022-07-27T13:20:19.001Z"
   },
   {
    "duration": 10209,
    "start_time": "2022-07-27T13:20:26.291Z"
   },
   {
    "duration": 292,
    "start_time": "2022-07-27T13:20:36.502Z"
   },
   {
    "duration": 75,
    "start_time": "2022-07-27T13:20:36.796Z"
   },
   {
    "duration": 74,
    "start_time": "2022-07-27T13:20:36.873Z"
   },
   {
    "duration": 107,
    "start_time": "2022-07-27T13:20:36.949Z"
   },
   {
    "duration": 95,
    "start_time": "2022-07-27T13:20:37.058Z"
   },
   {
    "duration": 79,
    "start_time": "2022-07-27T13:20:37.155Z"
   },
   {
    "duration": 87,
    "start_time": "2022-07-27T13:20:37.236Z"
   },
   {
    "duration": 79,
    "start_time": "2022-07-27T13:20:37.324Z"
   },
   {
    "duration": 81,
    "start_time": "2022-07-27T13:20:37.406Z"
   },
   {
    "duration": 78,
    "start_time": "2022-07-27T13:20:37.489Z"
   },
   {
    "duration": 49,
    "start_time": "2022-07-27T13:20:37.569Z"
   },
   {
    "duration": 645,
    "start_time": "2022-07-27T13:20:45.036Z"
   },
   {
    "duration": 184,
    "start_time": "2022-07-27T13:21:10.594Z"
   },
   {
    "duration": 288,
    "start_time": "2022-07-27T13:21:23.049Z"
   }
  ],
  "kernelspec": {
   "display_name": "Python 3 (ipykernel)",
   "language": "python",
   "name": "python3"
  },
  "language_info": {
   "codemirror_mode": {
    "name": "ipython",
    "version": 3
   },
   "file_extension": ".py",
   "mimetype": "text/x-python",
   "name": "python",
   "nbconvert_exporter": "python",
   "pygments_lexer": "ipython3",
   "version": "3.9.7"
  },
  "toc": {
   "base_numbering": 1,
   "nav_menu": {},
   "number_sections": true,
   "sideBar": true,
   "skip_h1_title": true,
   "title_cell": "Table of Contents",
   "title_sidebar": "Contents",
   "toc_cell": false,
   "toc_position": {},
   "toc_section_display": true,
   "toc_window_display": true
  }
 },
 "nbformat": 4,
 "nbformat_minor": 2
}
